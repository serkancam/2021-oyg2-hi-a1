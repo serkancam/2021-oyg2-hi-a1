{
 "cells": [
  {
   "cell_type": "code",
   "execution_count": 1,
   "metadata": {},
   "outputs": [],
   "source": [
    "import numpy as np\n",
    "import pandas as pd\n",
    "import seaborn as sns\n",
    "import matplotlib.pyplot as plt"
   ]
  },
  {
   "cell_type": "code",
   "execution_count": 2,
   "metadata": {},
   "outputs": [],
   "source": [
    "#kume1\n",
    "x1=np.random.normal(25,5,100)\n",
    "y1=np.random.normal(25,5,100)\n",
    "#kume2\n",
    "x2=np.random.normal(55,5,100)\n",
    "y2=np.random.normal(60,5,100)\n",
    "#kume3\n",
    "x3=np.random.normal(55,5,100)\n",
    "y3=np.random.normal(15,5,100)"
   ]
  },
  {
   "cell_type": "code",
   "execution_count": 5,
   "metadata": {},
   "outputs": [
    {
     "data": {
      "text/plain": [
       "array([15.09259534,  9.30931411,  8.29612132, 23.35110246, 16.00052211,\n",
       "       18.92468967,  8.69099687, 16.8470444 , 18.14846063, 14.41466855,\n",
       "       15.16218126, 19.00647333, 18.06709953, 26.27530176, 16.35368276,\n",
       "       16.38018973,  9.26723271, 16.34860259,  4.35376418, 14.17854581,\n",
       "       14.41204567, 11.9337692 ,  6.73898026, 17.06338951, 13.40653304,\n",
       "       14.97338195, 11.70789573, 12.55089932, 24.64722714, 17.57592984,\n",
       "       20.25491934, 17.10322613, 16.61265356, 16.78298379, 15.05116066,\n",
       "       13.87850996, 11.63519522, 11.19743675, 13.00367887, 16.9381219 ,\n",
       "       15.12100712, 26.55581107, 23.77826403, 21.19200422, 14.61838744,\n",
       "       11.97808359,  9.83940748, 12.16377765, 16.97895709, 21.92569821,\n",
       "       16.41695353, 10.23755171, 17.03163443, 15.45782594, 19.2164586 ,\n",
       "       11.19480614, 13.97700466, 11.76162575, 21.06404403,  7.04564506,\n",
       "        3.9414315 , 12.42754402,  8.01664927, 18.13916215, 12.8541432 ,\n",
       "       12.23695564, 14.64278597, 14.31147694, 10.55206103, 14.7078991 ,\n",
       "       13.55762981, 12.38951029, 11.08775937, 15.52572103, 18.0807597 ,\n",
       "       12.28396065,  7.91987869,  5.23022376, 14.02427829,  7.57951397,\n",
       "       14.03139959,  8.63333117, 18.89934243, 21.07068619, 16.08724337,\n",
       "       16.74812994, 17.33351112, 16.99992477, 11.47456674, 22.29136636,\n",
       "       16.84134596, 18.56560887, 15.50606611, 19.92238108, 15.40812026,\n",
       "       25.78404154, 17.06797967, 10.80564461, 23.01770412, 21.73076775])"
      ]
     },
     "execution_count": 5,
     "metadata": {},
     "output_type": "execute_result"
    }
   ],
   "source": [
    "y3"
   ]
  },
  {
   "cell_type": "code",
   "execution_count": 6,
   "metadata": {},
   "outputs": [],
   "source": [
    "x=np.concatenate((x1,x2,x3),axis=0)\n",
    "y=np.concatenate((y1,y2,y3),axis=0)\n"
   ]
  },
  {
   "cell_type": "code",
   "execution_count": null,
   "metadata": {},
   "outputs": [],
   "source": [
    "print(\"x:\\n\",x)\n",
    "print(\"y:\\n\",y)"
   ]
  },
  {
   "cell_type": "code",
   "execution_count": null,
   "metadata": {},
   "outputs": [],
   "source": [
    "veri_sozluk = {\"x\":x,\"y\":y}\n",
    "veri_sozluk"
   ]
  },
  {
   "cell_type": "code",
   "execution_count": null,
   "metadata": {},
   "outputs": [],
   "source": [
    "veri = pd.DataFrame(veri_sozluk)\n",
    "veri"
   ]
  },
  {
   "cell_type": "code",
   "execution_count": 10,
   "metadata": {},
   "outputs": [
    {
     "data": {
      "image/png": "[encoded data removed]",
      "text/plain": [
       "<Figure size 432x288 with 1 Axes>"
      ]
     },
     "metadata": {
      "needs_background": "light"
     },
     "output_type": "display_data"
    }
   ],
   "source": [
    "plt.scatter(x,y)\n",
    "plt.show()"
   ]
  },
  {
   "cell_type": "code",
   "execution_count": 12,
   "metadata": {},
   "outputs": [],
   "source": [
    "from sklearn.cluster import KMeans\n",
    "from scipy.cluster.hierarchy import linkage,dendrogram"
   ]
  },
  {
   "cell_type": "code",
   "execution_count": null,
   "metadata": {},
   "outputs": [],
   "source": [
    "wcss=[]\n",
    "\n",
    "for k in range(1,21):\n",
    "    km=KMeans(n_clusters=k)\n",
    "    km.fit(veri)\n",
    "    wcss.append(km.inertia_)\n",
    "\n",
    "wcss\n"
   ]
  },
  {
   "cell_type": "code",
   "execution_count": 27,
   "metadata": {},
   "outputs": [
    {
     "data": {
      "image/png": "[encoded data removed]",
      "text/plain": [
       "<Figure size 432x288 with 1 Axes>"
      ]
     },
     "metadata": {
      "needs_background": "light"
     },
     "output_type": "display_data"
    }
   ],
   "source": [
    "plt.plot(range(1,21),wcss)\n",
    "plt.xticks(range(1,21))\n",
    "plt.show()"
   ]
  },
  {
   "cell_type": "code",
   "execution_count": 28,
   "metadata": {},
   "outputs": [
    {
     "data": {
      "text/plain": [
       "KMeans(n_clusters=3)"
      ]
     },
     "execution_count": 28,
     "metadata": {},
     "output_type": "execute_result"
    }
   ],
   "source": [
    "km=KMeans(n_clusters=3)\n",
    "km.fit(veri)"
   ]
  },
  {
   "cell_type": "code",
   "execution_count": 32,
   "metadata": {},
   "outputs": [
    {
     "name": "stderr",
     "output_type": "stream",
     "text": [
      "/usr/local/lib/python3.9/dist-packages/sklearn/base.py:441: UserWarning: X does not have valid feature names, but KMeans was fitted with feature names\n",
      "  warnings.warn(\n"
     ]
    },
    {
     "data": {
      "text/plain": [
       "array([0], dtype=int32)"
      ]
     },
     "execution_count": 32,
     "metadata": {},
     "output_type": "execute_result"
    }
   ],
   "source": [
    "sonuc=km.predict([[40,40]])\n",
    "sonuc"
   ]
  }
 ],
 "metadata": {
  "interpreter": {
   "hash": "916dbcbb3f70747c44a77c7bcd40155683ae19c65e1c03b4aa3499c5328201f1"
  },
  "kernelspec": {
   "display_name": "Python 3.9.2 64-bit",
   "language": "python",
   "name": "python3"
  },
  "language_info": {
   "codemirror_mode": {
    "name": "ipython",
    "version": 3
   },
   "file_extension": ".py",
   "mimetype": "text/x-python",
   "name": "python",
   "nbconvert_exporter": "python",
   "pygments_lexer": "ipython3",
   "version": "3.9.2"
  },
  "orig_nbformat": 4
 },
 "nbformat": 4,
 "nbformat_minor": 2
}
